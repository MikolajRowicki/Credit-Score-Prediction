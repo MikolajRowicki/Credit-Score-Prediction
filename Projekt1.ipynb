{
 "cells": [
  {
   "cell_type": "code",
   "execution_count": null,
   "id": "a31f1efc",
   "metadata": {},
   "outputs": [],
   "source": [
    "import pandas as pd\n",
    "import seaborn as sns\n",
    "import matplotlib.pyplot as plt\n",
    "import numpy as np"
   ]
  },
  {
   "cell_type": "code",
   "execution_count": null,
   "id": "cee43cf4",
   "metadata": {},
   "outputs": [],
   "source": [
    "data = pd.read_csv(\"orig_train.csv\")"
   ]
  },
  {
   "cell_type": "code",
   "execution_count": null,
   "id": "50e5761b",
   "metadata": {
    "scrolled": true
   },
   "outputs": [],
   "source": [
    "data.head()"
   ]
  },
  {
   "cell_type": "code",
   "execution_count": null,
   "id": "030865a3",
   "metadata": {},
   "outputs": [],
   "source": [
    "# Summary statistics for numerical features\n",
    "numerical_summary = data.describe()\n",
    "\n",
    "numerical_summary"
   ]
  },
  {
   "cell_type": "code",
   "execution_count": null,
   "id": "2e8420da",
   "metadata": {},
   "outputs": [],
   "source": [
    "# Frequency counts for categorical features\n",
    "categorical_columns = data.select_dtypes(include=['object']).columns\n",
    "categorical_summary = data[categorical_columns].describe()\n",
    "\n",
    "categorical_summary"
   ]
  },
  {
   "cell_type": "code",
   "execution_count": null,
   "id": "e2e361b2",
   "metadata": {},
   "outputs": [],
   "source": [
    "# Binary columns (excluding the target variable 'DEFAULT_FLAG' for now)\n",
    "\n",
    "binary_columns = [col for col in data.columns if data[col].dropna().isin([0, 1]).all() and col != 'DEFAULT_FLAG']\n",
    "\n",
    "# Summary table for binary columns\n",
    "\n",
    "binary_summary = data[binary_columns].apply(pd.Series.value_counts).T\n",
    "\n",
    "binary_summary"
   ]
  },
  {
   "cell_type": "code",
   "execution_count": null,
   "id": "1788455c",
   "metadata": {},
   "outputs": [],
   "source": [
    "# Checking for missing values\n",
    "missing_values = data.isnull().sum()\n",
    "\n",
    "missing_values"
   ]
  },
  {
   "cell_type": "code",
   "execution_count": null,
   "id": "148e85ad",
   "metadata": {},
   "outputs": [],
   "source": [
    "# Proportion of missing values\n",
    "missing_proportions = {}\n",
    "for column in categorical_columns:\n",
    "    total = len(data[column])\n",
    "    missing_count = sum(data[column] == 'Missing')\n",
    "    missing_proportions[column] = (missing_count / total) * 100\n",
    "\n",
    "missing_proportions_df = pd.DataFrame(missing_proportions.items(), columns=['Column', 'Missing Proportion (%)'])\n",
    "\n",
    "missing_proportions_df"
   ]
  },
  {
   "cell_type": "code",
   "execution_count": null,
   "id": "c2f09af7",
   "metadata": {},
   "outputs": [],
   "source": [
    "sns.set(style=\"whitegrid\")\n",
    "\n",
    "# Subset of numerical columns for visualization\n",
    "numerical_columns = ['AGE', 'HOUSEHOLD_MEMBERS', 'NO_OF_DEPENDENTS','INCOME', 'WORK_SENIORITY', 'BUSINESS AGE', 'LENGTH_RELATIONSHIP_WITH_CLIENT']\n",
    "\n",
    "# Plotting histograms for the selected numerical features\n",
    "plt.figure(figsize=(15, 15))\n",
    "for i, column in enumerate(numerical_columns, 1):\n",
    "    plt.subplot(3, 3, i)\n",
    "    sns.histplot(data[column], bins=30, kde=True)\n",
    "    plt.title(f'Distribution of {column}')\n",
    "    plt.xlabel(column)\n",
    "    plt.ylabel('Frequency')\n",
    "\n",
    "plt.tight_layout()\n",
    "plt.show()"
   ]
  },
  {
   "cell_type": "code",
   "execution_count": null,
   "id": "d06c0f64",
   "metadata": {},
   "outputs": [],
   "source": [
    "# Plotting box plots for the selected numerical features\n",
    "\n",
    "plt.figure(figsize=(15, 15))\n",
    "for i, column in enumerate(numerical_columns, 1):\n",
    "    plt.subplot(3, 3, i)\n",
    "    sns.boxplot(y=data[column])\n",
    "    plt.title(f'Box Plot of {column}')\n",
    "\n",
    "plt.tight_layout()\n",
    "plt.show()"
   ]
  },
  {
   "cell_type": "code",
   "execution_count": null,
   "id": "54687dd8",
   "metadata": {},
   "outputs": [],
   "source": [
    "# Plotting bar plots for the selected categorical features against the DEFAULT_FLAG\n",
    "\n",
    "categorical_columns = ['PRODUCT', 'AREA', 'RESIDENTIAL_PLACE', 'EDUCATION', 'MARITAL_STATUS', 'EMPLOYEE_NO']\n",
    "plt.figure(figsize=(15, 20))\n",
    "for i, column in enumerate(categorical_columns, 1):\n",
    "    plt.subplot(6, 1, i)\n",
    "    sns.countplot(x=column, hue='DEFAULT_FLAG', data=data)\n",
    "    plt.title(f'Distribution of {column} by DEFAULT_FLAG')\n",
    "    plt.xlabel(column)\n",
    "    plt.ylabel('Count')\n",
    "    plt.legend(title='DEFAULT_FLAG', loc='upper right')\n",
    "\n",
    "plt.tight_layout()\n",
    "plt.show()"
   ]
  },
  {
   "cell_type": "code",
   "execution_count": null,
   "id": "d37481cb",
   "metadata": {},
   "outputs": [],
   "source": [
    "# I have changed the orientation of the plot so that the values on the axis can be readable\n",
    "plt.figure(figsize=(6, 20)) \n",
    "sns.countplot(y='ECONOMIC_SECTOR', data=df) \n",
    "plt.title('Economic Sector Distribution')\n",
    "plt.xlabel('Count')\n",
    "plt.ylabel('Economic Sector') \n",
    "plt.show()"
   ]
  },
  {
   "cell_type": "code",
   "execution_count": null,
   "id": "9de90743",
   "metadata": {},
   "outputs": [],
   "source": [
    "# Correlation matrix\n",
    "corr = data.corr()\n",
    "\n",
    "# Mask for the upper triangle\n",
    "mask = np.triu(np.ones_like(corr, dtype=bool))\n",
    "\n",
    "plt.figure(figsize=(12, 10))\n",
    "\n",
    "# Heatmap with the mask and correct aspect ratio\n",
    "sns.heatmap(corr, mask=mask, cmap='coolwarm', annot=True, fmt=\".2f\", linewidths=0.5)\n",
    "plt.title('Correlation Matrix')\n",
    "plt.show()"
   ]
  },
  {
   "cell_type": "code",
   "execution_count": null,
   "id": "139dce29",
   "metadata": {},
   "outputs": [],
   "source": [
    "# Low variance columns: These columns are highly skewed with a dominant value, reducing their potential predictive power.\n",
    "columns_to_remove_low_variance = ['SAVING_ACCOUNT', 'FOREIGN_ACCOUNT', 'DEPOSIT', 'PENSION_FUNDS']\n",
    "\n",
    "# High proportion of missing values: These columns have a significant number of 'MISSING' entries, which might not be informative.\n",
    "columns_to_remove_high_missing = ['ECONOMIC_SECTOR', 'EMPLOYEE_NO']\n",
    "\n",
    "# Columns to remove due to concerns of high correlation or redundancy\n",
    "columns_to_remove_correlation_concerns = ['HOUSEHOLD_MEMBERS', 'DEBIT_CARD']\n",
    "\n",
    "# All columns to remove\n",
    "columns_to_remove = columns_to_remove_low_variance + columns_to_remove_high_missing + columns_to_remove_correlation_concerns\n",
    "\n",
    "# Removing the columns from the dataset\n",
    "data_cleaned = data.drop(columns=columns_to_remove)\n",
    "\n",
    "\n",
    "data_cleaned.head()"
   ]
  },
  {
   "cell_type": "code",
   "execution_count": null,
   "id": "087d3ba0",
   "metadata": {},
   "outputs": [],
   "source": [
    "# I have removed rows with 'Missing' values in 'AREA'\n",
    "data_no_missing_area = data_no_duplicates[data_no_duplicates['AREA'] != 'Missing']\n",
    "\n",
    "rows_after_removal = data_no_missing_area.shape[0]\n",
    "rows_removed = data_cleaned.shape[0] - rows_after_removal\n",
    "\n",
    "rows_removed, rows_after_removal"
   ]
  },
  {
   "cell_type": "code",
   "execution_count": null,
   "id": "4e66d756",
   "metadata": {},
   "outputs": [],
   "source": []
  },
  {
   "cell_type": "code",
   "execution_count": null,
   "id": "873f080c",
   "metadata": {},
   "outputs": [],
   "source": []
  },
  {
   "cell_type": "code",
   "execution_count": null,
   "id": "7ed42012",
   "metadata": {},
   "outputs": [],
   "source": [
    "# Trzeba jeszcze zająć się kolumną EDUCATION - sporo brakujących wartości"
   ]
  }
 ],
 "metadata": {
  "kernelspec": {
   "display_name": "Python 3 (ipykernel)",
   "language": "python",
   "name": "python3"
  },
  "language_info": {
   "codemirror_mode": {
    "name": "ipython",
    "version": 3
   },
   "file_extension": ".py",
   "mimetype": "text/x-python",
   "name": "python",
   "nbconvert_exporter": "python",
   "pygments_lexer": "ipython3",
   "version": "3.9.12"
  }
 },
 "nbformat": 4,
 "nbformat_minor": 5
}
