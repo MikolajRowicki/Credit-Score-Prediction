{
 "cells": [
  {
   "cell_type": "code",
   "execution_count": null,
   "id": "a31f1efc",
   "metadata": {},
   "outputs": [],
   "source": [
    "import pandas as pd\n",
    "import seaborn as sns\n",
    "import matplotlib.pyplot as plt\n",
    "import numpy as np\n",
    "from sklearn.ensemble import RandomForestClassifier\n",
    "from sklearn.preprocessing import OrdinalEncoder"
   ]
  },
  {
   "cell_type": "code",
   "execution_count": null,
   "id": "cee43cf4",
   "metadata": {},
   "outputs": [],
   "source": [
    "data = pd.read_csv(\"orig_train.csv\")"
   ]
  },
  {
   "cell_type": "code",
   "execution_count": null,
   "id": "50e5761b",
   "metadata": {
    "scrolled": true
   },
   "outputs": [],
   "source": [
    "data.head()"
   ]
  },
  {
   "cell_type": "markdown",
   "id": "86edf526",
   "metadata": {},
   "source": [
    "# Descriptions of Continuous Variables\n",
    "\n",
    "   * age - the age of the person in years\n",
    "   * household_members - the number of people in the household of the client\n",
    "   * no_of_dependents - the number of people financially dependent on this particular person\n",
    "   * income - monthly income\n",
    "   * work_seniority - tenure/ professional experience in a given industry\n",
    "   * business age - the number of years that a company has been legally in operation\n",
    "   * length_relationship_with_client - duration of the relationship with the client\n",
    "   * debit_card - possession of a debit card (1 - true, 0 - false)\n",
    "   * current_account - client's possession of a current account (1 - true, 0 - false)\n",
    "   * saving_account - client's possession of a savings account (1 - true, 0 - false)\n",
    "   * salary_account - client's possession of an account designated for receiving salaries (1 - true, 0 - false)\n",
    "   * foreign_account - client's possession of a foreign/currency account (1 - true, 0 - false)\n",
    "   * finalized_loan - whether a current loan has been granted (1 - yes, 0 - no)\n",
    "   * deposit - whether a deposit payment was made when signing the contract (1 - yes, 0, - no)\n",
    "   * pension_funds - pension funds, column only with values 0, so to be removed\n",
    "   * default_flag - whether the client has debts (1 - yes, 0 - no)\n",
    "\n",
    "# Descriptions of Textual Variables\n",
    "\n",
    "   * product - type of loan/service chosen by a client\n",
    "   * area - type of the client's area of residence\n",
    "   * residential_place - the client's residential status: owner without mortgage - owner of a house without a mortgage, owner          with mortgage, renter, living with family, other - other\n",
    "   * education - the highest level of education obtained\n",
    "   * marital status - single, widow, married, divorced\n",
    "   * economic sector - sector of economic activity\n",
    "   * employee_no - number of employees in the company that the client is currently working\n",
    "\n"
   ]
  },
  {
   "cell_type": "markdown",
   "id": "82e77ceb",
   "metadata": {},
   "source": [
    "### Business goal\n",
    "\n",
    "We are going to prepare a model for the bank to help predict whether a given customer should receive a particular product (A-F). We plan to predict a value in the Finalised Loan column that takes 0 when the customer doesn't receive a loan and 1 when they receive one."
   ]
  },
  {
   "cell_type": "code",
   "execution_count": null,
   "id": "030865a3",
   "metadata": {},
   "outputs": [],
   "source": [
    "# Summary statistics for numerical features\n",
    "numerical_summary = data.describe()\n",
    "\n",
    "numerical_summary"
   ]
  },
  {
   "cell_type": "markdown",
   "id": "335a13f5",
   "metadata": {},
   "source": [
    "* We have 15097 observations in the set. \n",
    "* There are only values '0' in the Pension Funds column - this column is suitable for deletion. It does not contribute any information to the model.\n",
    "* Maximum value of column 'Business Age' equals 116 and maximum value of column 'Length relationship with client' equals 110 which means these features don't relate to the clients but the company they're working in"
   ]
  },
  {
   "cell_type": "code",
   "execution_count": null,
   "id": "2e8420da",
   "metadata": {},
   "outputs": [],
   "source": [
    "# Frequency counts for categorical features\n",
    "categorical_columns = data.select_dtypes(include=['object']).columns\n",
    "categorical_summary = data[categorical_columns].describe()\n",
    "\n",
    "categorical_summary"
   ]
  },
  {
   "cell_type": "markdown",
   "id": "9a1367ce",
   "metadata": {},
   "source": [
    "* There are no categorical variables where we would have a very large number of categories (for all columns there are less than 20 values). \n",
    "* In two columns, the most common value is Missing. We will probably try to imputate them using Advanced Imputation Techniques (Random Forest Model).\n",
    "* There are two ordered categorical variables: 'Education' and 'Employee No' and 5 nominal variables."
   ]
  },
  {
   "cell_type": "code",
   "execution_count": null,
   "id": "bf44ad87",
   "metadata": {
    "scrolled": true
   },
   "outputs": [],
   "source": [
    "data[\"AREA\"].unique()"
   ]
  },
  {
   "cell_type": "markdown",
   "id": "48e6a73f",
   "metadata": {},
   "source": [
    "* We have some missing values"
   ]
  },
  {
   "cell_type": "code",
   "execution_count": null,
   "id": "ece8aa16",
   "metadata": {},
   "outputs": [],
   "source": [
    "data[\"PRODUCT\"].unique()"
   ]
  },
  {
   "cell_type": "code",
   "execution_count": null,
   "id": "eab83e87",
   "metadata": {},
   "outputs": [],
   "source": [
    "data[\"RESIDENTIAL_PLACE\"].unique()"
   ]
  },
  {
   "cell_type": "code",
   "execution_count": null,
   "id": "c3631c96",
   "metadata": {},
   "outputs": [],
   "source": [
    "data[\"EDUCATION\"].unique()"
   ]
  },
  {
   "cell_type": "markdown",
   "id": "5c1bb72f",
   "metadata": {},
   "source": [
    "* Again some Missing values"
   ]
  },
  {
   "cell_type": "code",
   "execution_count": null,
   "id": "22d0da93",
   "metadata": {},
   "outputs": [],
   "source": [
    "data[\"MARITAL_STATUS\"].unique()"
   ]
  },
  {
   "cell_type": "code",
   "execution_count": null,
   "id": "66828ee9",
   "metadata": {},
   "outputs": [],
   "source": [
    "data[\"ECONOMIC_SECTOR\"].unique()"
   ]
  },
  {
   "cell_type": "code",
   "execution_count": null,
   "id": "30f9c7b0",
   "metadata": {},
   "outputs": [],
   "source": [
    "data[\"EMPLOYEE_NO\"].unique()"
   ]
  },
  {
   "cell_type": "code",
   "execution_count": null,
   "id": "e2e361b2",
   "metadata": {},
   "outputs": [],
   "source": [
    "# Binary columns \n",
    "\n",
    "binary_columns = [col for col in data.columns if data[col].dropna().isin([0, 1]).all() ]\n",
    "\n",
    "# Summary table for binary columns\n",
    "\n",
    "binary_summary = data[binary_columns].apply(pd.Series.value_counts).T\n",
    "\n",
    "binary_summary"
   ]
  },
  {
   "cell_type": "markdown",
   "id": "113dbd3b",
   "metadata": {},
   "source": [
    " Distribution of FINALIZED_LOAN: About 83.58% of the clients in the dataset have FINALISED_LOAN = 0, \n",
    " while approximately 16.42% have FINALISED_LOAN = 1. This unbalanced distribution indicates that we will need to\n",
    " apply class-balancing techniques or adjust model evaluation metrics accordingly to avoid biases \n",
    " in favour of the dominant class. From this data, we see that negative credit decisions are given more often than the positive ones"
   ]
  },
  {
   "cell_type": "markdown",
   "id": "456f4d0a",
   "metadata": {},
   "source": [
    "Distribution of SAVING_ACCOUNT, FOREIGN_ACCOUNT and DEPOSIT is very skewed and we \n",
    "might want to remove these rows in the future"
   ]
  },
  {
   "cell_type": "code",
   "execution_count": null,
   "id": "1788455c",
   "metadata": {},
   "outputs": [],
   "source": [
    "# Checking for missing values\n",
    "missing_values = data.isnull().sum()\n",
    "\n",
    "missing_values"
   ]
  },
  {
   "cell_type": "markdown",
   "id": "731b9eec",
   "metadata": {},
   "source": [
    "There are only zeros here because all the missing values in this csv are marked as \"Missing\""
   ]
  },
  {
   "cell_type": "code",
   "execution_count": null,
   "id": "148e85ad",
   "metadata": {},
   "outputs": [],
   "source": [
    "# Proportion of missing values\n",
    "missing_proportions = {}\n",
    "for column in categorical_columns:\n",
    "    total = len(data[column])\n",
    "    missing_count = sum(data[column] == 'Missing')\n",
    "    missing_proportions[column] = (missing_count / total) * 100\n",
    "\n",
    "missing_proportions_df = pd.DataFrame(missing_proportions.items(), columns=['Column', 'Missing Proportion (%)'])\n",
    "\n",
    "missing_proportions_df"
   ]
  },
  {
   "cell_type": "markdown",
   "id": "40a4aa5e",
   "metadata": {},
   "source": [
    "* As the number of missing data in the columns EMPLOYEE_NO and ECONOMIC_SECTOR exceeds 20 % we might want to imputate the missing values. We will also try to imputate missing values in column Education."
   ]
  },
  {
   "cell_type": "markdown",
   "id": "c65d8fed",
   "metadata": {},
   "source": [
    "* We are going to remove rows with missing value in column Area"
   ]
  },
  {
   "cell_type": "code",
   "execution_count": null,
   "id": "c2f09af7",
   "metadata": {},
   "outputs": [],
   "source": [
    "sns.set(style=\"whitegrid\")\n",
    "\n",
    "# Subset of numerical columns for visualization\n",
    "numerical_columns = ['AGE', 'HOUSEHOLD_MEMBERS', 'NO_OF_DEPENDENTS','INCOME', 'WORK_SENIORITY', 'BUSINESS AGE', 'LENGTH_RELATIONSHIP_WITH_CLIENT']\n",
    "\n",
    "# Plotting histograms for the selected numerical features\n",
    "plt.figure(figsize=(15, 15))\n",
    "for i, column in enumerate(numerical_columns, 1):\n",
    "    plt.subplot(3, 3, i)\n",
    "    sns.histplot(data[column], bins=30, kde=True)\n",
    "    plt.title(f'Distribution of {column}')\n",
    "    plt.xlabel(column)\n",
    "    plt.ylabel('Frequency')\n",
    "\n",
    "plt.tight_layout()\n",
    "plt.show()"
   ]
  },
  {
   "cell_type": "code",
   "execution_count": null,
   "id": "d06c0f64",
   "metadata": {},
   "outputs": [],
   "source": [
    "# Plotting box plots for the selected numerical features\n",
    "\n",
    "plt.figure(figsize=(15, 15))\n",
    "for i, column in enumerate(numerical_columns, 1):\n",
    "    plt.subplot(3, 3, i)\n",
    "    sns.boxplot(y=data[column])\n",
    "    plt.title(f'Box Plot of {column}')\n",
    "\n",
    "plt.tight_layout()\n",
    "plt.show()"
   ]
  },
  {
   "cell_type": "markdown",
   "id": "cd68dcb2",
   "metadata": {},
   "source": [
    "* We can see that with a high probability the value that exceeds 100 in column Length Relationship With Client is probably a mistake beacuse it's far from other observations on the boxplot. So now this column can actually mean something different, for example the length of relationship between bank and the client"
   ]
  },
  {
   "cell_type": "code",
   "execution_count": null,
   "id": "54687dd8",
   "metadata": {},
   "outputs": [],
   "source": [
    "# Plotting bar plots for the selected categorical features against the FINALISED_LOAN\n",
    "\n",
    "categorical_columns = ['PRODUCT', 'AREA', 'RESIDENTIAL_PLACE', 'EDUCATION', 'MARITAL_STATUS', 'EMPLOYEE_NO']\n",
    "plt.figure(figsize=(15, 20))\n",
    "for i, column in enumerate(categorical_columns, 1):\n",
    "    plt.subplot(6, 1, i)\n",
    "    sns.countplot(x=column, hue='FINALIZED_LOAN', data=data)\n",
    "    plt.title(f'Distribution of {column} by FINALISED_LOAN')\n",
    "    plt.xlabel(column)\n",
    "    plt.ylabel('Count')\n",
    "    plt.legend(title='FINALIZED_LOAN', loc='upper right')\n",
    "\n",
    "plt.tight_layout()\n",
    "plt.show()"
   ]
  },
  {
   "cell_type": "code",
   "execution_count": null,
   "id": "d37481cb",
   "metadata": {},
   "outputs": [],
   "source": [
    "# I have changed the orientation of the plot so that the values on the axis can be readable\n",
    "plt.figure(figsize=(6, 20)) \n",
    "sns.countplot(y='ECONOMIC_SECTOR', data=data) \n",
    "plt.title('Economic Sector Distribution')\n",
    "plt.xlabel('Count')\n",
    "plt.ylabel('Economic Sector') \n",
    "plt.show()"
   ]
  },
  {
   "cell_type": "code",
   "execution_count": null,
   "id": "9de90743",
   "metadata": {},
   "outputs": [],
   "source": [
    "# Correlation matrix\n",
    "corr = data.corr()\n",
    "\n",
    "# Mask for the upper triangle\n",
    "mask = np.triu(np.ones_like(corr, dtype=bool))\n",
    "\n",
    "plt.figure(figsize=(12, 10))\n",
    "\n",
    "# Heatmap with the mask and correct aspect ratio\n",
    "sns.heatmap(corr, mask=mask, cmap='coolwarm', annot=True, fmt=\".2f\", linewidths=0.5)\n",
    "plt.title('Correlation Matrix')\n",
    "plt.show()"
   ]
  },
  {
   "cell_type": "markdown",
   "id": "547fb622",
   "metadata": {},
   "source": [
    "* We can see that there is a high correlation between column Current_Account and column Debit_Card, so we'll remove one of them.\n",
    "* The same situation is with columns Number of dependents and Household members.\n",
    "* We can notice that column Finalised Loan that we are going to predict is quite strongly correlated with column Length relationoship with Client so that feature might be crucial in our model"
   ]
  },
  {
   "cell_type": "code",
   "execution_count": null,
   "id": "22381464",
   "metadata": {},
   "outputs": [],
   "source": [
    "data.groupby([\"PRODUCT\",\"FINALIZED_LOAN\"]).agg(\"size\").reset_index(name=\"count\")"
   ]
  },
  {
   "cell_type": "code",
   "execution_count": null,
   "id": "bbca739f",
   "metadata": {},
   "outputs": [],
   "source": [
    "data.groupby([\"AREA\",\"FINALIZED_LOAN\"]).size().reset_index()"
   ]
  },
  {
   "cell_type": "code",
   "execution_count": null,
   "id": "e32c92c2",
   "metadata": {},
   "outputs": [],
   "source": [
    "data.groupby([\"RESIDENTIAL_PLACE\",\"FINALIZED_LOAN\"]).size().reset_index()"
   ]
  },
  {
   "cell_type": "code",
   "execution_count": null,
   "id": "3dc8e2f3",
   "metadata": {},
   "outputs": [],
   "source": [
    "data.groupby([\"EDUCATION\",\"FINALIZED_LOAN\"]).size().reset_index()"
   ]
  },
  {
   "cell_type": "code",
   "execution_count": null,
   "id": "428c288a",
   "metadata": {},
   "outputs": [],
   "source": [
    "data.groupby([\"MARITAL_STATUS\",\"FINALIZED_LOAN\"]).size().reset_index()"
   ]
  },
  {
   "cell_type": "code",
   "execution_count": null,
   "id": "5e985bdc",
   "metadata": {},
   "outputs": [],
   "source": [
    "data.groupby([\"HOUSEHOLD_MEMBERS\",\"FINALIZED_LOAN\"]).size().reset_index()"
   ]
  },
  {
   "cell_type": "code",
   "execution_count": null,
   "id": "d3a5154f",
   "metadata": {},
   "outputs": [],
   "source": [
    "data.groupby([\"NO_OF_DEPENDENTS\",\"FINALIZED_LOAN\"]).size().reset_index()"
   ]
  },
  {
   "cell_type": "code",
   "execution_count": null,
   "id": "7ba4d443",
   "metadata": {
    "scrolled": true
   },
   "outputs": [],
   "source": [
    "data.groupby([\"INCOME\",\"FINALIZED_LOAN\"]).size().reset_index()"
   ]
  },
  {
   "cell_type": "code",
   "execution_count": null,
   "id": "cfbc099c",
   "metadata": {},
   "outputs": [],
   "source": [
    "data.groupby([\"WORK_SENIORITY\",\"FINALIZED_LOAN\"]).size().reset_index()"
   ]
  },
  {
   "cell_type": "code",
   "execution_count": null,
   "id": "e8f3973b",
   "metadata": {},
   "outputs": [],
   "source": [
    "data.groupby([\"BUSINESS AGE\",\"FINALIZED_LOAN\"]).size().reset_index().tail(10)     "
   ]
  },
  {
   "cell_type": "code",
   "execution_count": null,
   "id": "092bf341",
   "metadata": {},
   "outputs": [],
   "source": [
    "data.groupby([\"ECONOMIC_SECTOR\",\"FINALIZED_LOAN\"]).size().reset_index()"
   ]
  },
  {
   "cell_type": "code",
   "execution_count": null,
   "id": "5d5ce803",
   "metadata": {},
   "outputs": [],
   "source": [
    "data.groupby([\"EMPLOYEE_NO\",\"FINALIZED_LOAN\"]).size().reset_index()"
   ]
  },
  {
   "cell_type": "code",
   "execution_count": null,
   "id": "93080908",
   "metadata": {},
   "outputs": [],
   "source": [
    "data.groupby([\"LENGTH_RELATIONSHIP_WITH_CLIENT\",\"FINALIZED_LOAN\"]).size().reset_index()"
   ]
  },
  {
   "cell_type": "code",
   "execution_count": null,
   "id": "95953a23",
   "metadata": {},
   "outputs": [],
   "source": []
  },
  {
   "cell_type": "code",
   "execution_count": null,
   "id": "f3895841",
   "metadata": {},
   "outputs": [],
   "source": [
    "economic_sector_imputation = data\n",
    "\n",
    "education_categories = [['Primary school', 'Middle school', 'Highschool', 'Vocational school', 'Post secondary school', 'College', 'University', 'Post-graduate', 'Other', 'Missing']]\n",
    "\n",
    "encoder_education = OrdinalEncoder(categories=education_categories)\n",
    "\n",
    "# Fit and transform the 'education' data\n",
    "encoded_education = encoder_education.fit_transform(economic_sector_imputation[[\"EDUCATION\"]])\n",
    "\n",
    "economic_sector_imputation['EDUCATION_ENCODED']=encoded_education\n",
    "\n",
    "#Now encoding Employee_No column\n",
    "\n",
    "employee_no_categories=[['between 0-10','between 11-20','between 21-50','between 51-100','between 101-250','between 251-500','between 501-1.000','> 1.000','Missing']]\n",
    "\n",
    "encoder_employee = OrdinalEncoder(categories=employee_no_categories)\n",
    "\n",
    "# Fit and transform the 'education' data\n",
    "encoded_employee = encoder_employee.fit_transform(economic_sector_imputation[[\"EMPLOYEE_NO\"]])\n",
    "\n",
    "economic_sector_imputation['EMPLOYEE_NO_ENCODED']=encoded_employee\n",
    "\n",
    "one_hot_columns=economic_sector_imputation.select_dtypes(include=['object']).columns.drop(['EDUCATION','EMPLOYEE_NO',\"ECONOMIC_SECTOR\"]).tolist()\n",
    "\n",
    "economic_sector_imputation=pd.get_dummies(economic_sector_imputation,columns=one_hot_columns)\n",
    "\n",
    "economic_sector_imputation =economic_sector_imputation.drop(columns=['EDUCATION', 'EMPLOYEE_NO'])\n",
    "\n",
    "economic_known=economic_sector_imputation[economic_sector_imputation[\"ECONOMIC_SECTOR\"]!=\"Missing\"]\n",
    "economic_unknown=economic_sector_imputation[economic_sector_imputation[\"ECONOMIC_SECTOR\"]==\"Missing\"]\n",
    "\n",
    "# Assuming all other columns are used as features and have been appropriately encoded\n",
    "features = economic_known.drop(['ECONOMIC_SECTOR'], axis=1)\n",
    "target = economic_known['ECONOMIC_SECTOR']\n",
    "\n",
    "# Train a Random Forest Classifier\n",
    "model = RandomForestClassifier(n_estimators=100, random_state=42)\n",
    "model.fit(features, target)\n",
    "\n",
    "predictions = model.predict(economic_unknown.drop(['ECONOMIC_SECTOR'], axis=1))\n",
    "\n",
    "data.loc[data['ECONOMIC_SECTOR']==\"Missing\",\"ECONOMIC_SECTOR\"]=predictions\n",
    "\n",
    "data[\"ECONOMIC_SECTOR\"].unique()"
   ]
  },
  {
   "cell_type": "code",
   "execution_count": null,
   "id": "e8994444",
   "metadata": {},
   "outputs": [],
   "source": []
  },
  {
   "cell_type": "code",
   "execution_count": null,
   "id": "ec134dd2",
   "metadata": {},
   "outputs": [],
   "source": [
    "education_imputation = data\n",
    "\n",
    "#Now encoding Employee_No column\n",
    "\n",
    "employee_no_categories=[['between 0-10','between 11-20','between 21-50','between 51-100','between 101-250','between 251-500','between 501-1.000','> 1.000','Missing']]\n",
    "\n",
    "encoder_employee = OrdinalEncoder(categories=employee_no_categories)\n",
    "\n",
    "# Fit and transform the 'education' data\n",
    "encoded_employee = encoder_employee.fit_transform(education_imputation[[\"EMPLOYEE_NO\"]])\n",
    "\n",
    "education_imputation['EMPLOYEE_NO_ENCODED']=encoded_employee\n",
    "\n",
    "one_hot_columns=education_imputation.select_dtypes(include=['object']).columns.drop(['EDUCATION','EMPLOYEE_NO']).tolist()\n",
    "\n",
    "education_imputation=pd.get_dummies(education_imputation,columns=one_hot_columns)\n",
    "\n",
    "education_imputation =education_imputation.drop(columns=['EMPLOYEE_NO'])\n",
    "\n",
    "education_known=education_imputation[education_imputation[\"EDUCATION\"]!=\"Missing\"]\n",
    "education_unknown=education_imputation[education_imputation[\"EDUCATION\"]==\"Missing\"]\n",
    "\n",
    "# Assuming all other columns are used as features and have been appropriately encoded\n",
    "features = education_known.drop(['EDUCATION'], axis=1)\n",
    "target = education_known['EDUCATION']\n",
    "\n",
    "# Train a Random Forest Classifier\n",
    "model = RandomForestClassifier(n_estimators=100, random_state=42)\n",
    "model.fit(features, target)\n",
    "\n",
    "predictions = model.predict(education_unknown.drop(['EDUCATION'], axis=1))\n",
    "\n",
    "data.loc[data['EDUCATION']==\"Missing\",\"EDUCATION\"]=predictions\n",
    "\n",
    "data[\"EDUCATION\"].unique()"
   ]
  },
  {
   "cell_type": "code",
   "execution_count": null,
   "id": "d9b1d9ca",
   "metadata": {},
   "outputs": [],
   "source": []
  },
  {
   "cell_type": "code",
   "execution_count": null,
   "id": "964963e1",
   "metadata": {},
   "outputs": [],
   "source": [
    "education_imputation = data\n",
    "\n",
    "#Now encoding Employee_No column\n",
    "\n",
    "employee_no_categories=[['between 0-10','between 11-20','between 21-50','between 51-100','between 101-250','between 251-500','between 501-1.000','> 1.000','Missing']]\n",
    "\n",
    "encoder_employee = OrdinalEncoder(categories=employee_no_categories)\n",
    "\n",
    "# Fit and transform the 'education' data\n",
    "encoded_employee = encoder_employee.fit_transform(education_imputation[[\"EMPLOYEE_NO\"]])\n",
    "\n",
    "education_imputation['EMPLOYEE_NO_ENCODED']=encoded_employee\n",
    "\n",
    "one_hot_columns=education_imputation.select_dtypes(include=['object']).columns.drop(['EDUCATION','EMPLOYEE_NO']).tolist()\n",
    "\n",
    "education_imputation=pd.get_dummies(education_imputation,columns=one_hot_columns)\n",
    "\n",
    "education_imputation =education_imputation.drop(columns=['EMPLOYEE_NO'])\n",
    "\n",
    "education_known=education_imputation[education_imputation[\"EDUCATION\"]!=\"Missing\"]\n",
    "education_unknown=education_imputation[education_imputation[\"EDUCATION\"]==\"Missing\"]\n",
    "\n",
    "# Assuming all other columns are used as features and have been appropriately encoded\n",
    "features = education_known.drop(['EDUCATION'], axis=1)\n",
    "target = education_known['EDUCATION']\n",
    "\n",
    "# Train a Random Forest Classifier\n",
    "model = RandomForestClassifier(n_estimators=100, random_state=42)\n",
    "model.fit(features, target)\n",
    "\n",
    "predictions = model.predict(education_unknown.drop(['EDUCATION'], axis=1))\n",
    "\n",
    "data.loc[data['EDUCATION']==\"Missing\",\"EDUCATION\"]=predictions\n",
    "\n",
    "data[\"EDUCATION\"].unique()"
   ]
  },
  {
   "cell_type": "code",
   "execution_count": null,
   "id": "59f8421e",
   "metadata": {},
   "outputs": [],
   "source": []
  },
  {
   "cell_type": "code",
   "execution_count": null,
   "id": "d179e6ed",
   "metadata": {},
   "outputs": [],
   "source": [
    "employee_no_imputation = data\n",
    "\n",
    "education_categories = [['Primary school', 'Middle school', 'Highschool', 'Vocational school', 'Post secondary school', 'College', 'University', 'Post-graduate', 'Other', 'Missing']]\n",
    "\n",
    "encoder_education = OrdinalEncoder(categories=education_categories)\n",
    "\n",
    "# Fit and transform the 'education' data\n",
    "encoded_education = encoder_education.fit_transform(employee_no_imputation[[\"EDUCATION\"]])\n",
    "\n",
    "employee_no_imputation['EDUCATION_ENCODED']=encoded_education\n",
    "\n",
    "one_hot_columns=employee_no_imputation.select_dtypes(include=['object']).columns.drop(['EDUCATION','EMPLOYEE_NO']).tolist()\n",
    "\n",
    "employee_no_imputation=pd.get_dummies(employee_no_imputation,columns=one_hot_columns)\n",
    "\n",
    "employee_no_imputation =employee_no_imputation.drop(columns=['EDUCATION'])\n",
    "\n",
    "employee_no_known=employee_no_imputation[employee_no_imputation[\"EMPLOYEE_NO\"]!=\"Missing\"]\n",
    "employee_no_unknown=employee_no_imputation[employee_no_imputation[\"EMPLOYEE_NO\"]==\"Missing\"]\n",
    "\n",
    "# Assuming all other columns are used as features and have been appropriately encoded\n",
    "features = employee_no_known.drop(['EMPLOYEE_NO'], axis=1)\n",
    "target = employee_no_known['EMPLOYEE_NO']\n",
    "\n",
    "# Train a Random Forest Classifier\n",
    "model = RandomForestClassifier(n_estimators=100, random_state=42)\n",
    "model.fit(features, target)\n",
    "\n",
    "predictions = model.predict(employee_no_unknown.drop(['EMPLOYEE_NO'], axis=1))\n",
    "\n",
    "data.loc[data['EMPLOYEE_NO']==\"Missing\",\"EMPLOYEE_NO\"]=predictions\n",
    "\n",
    "data[\"EMPLOYEE_NO\"].unique()"
   ]
  },
  {
   "cell_type": "code",
   "execution_count": null,
   "id": "bfa394b2",
   "metadata": {},
   "outputs": [],
   "source": [
    "# Proportion of missing values\n",
    "missing_proportions = {}\n",
    "for column in categorical_columns:\n",
    "    total = len(data[column])\n",
    "    missing_count = sum(data[column] == 'Missing')\n",
    "    missing_proportions[column] = (missing_count / total) * 100\n",
    "\n",
    "missing_proportions_df = pd.DataFrame(missing_proportions.items(), columns=['Column', 'Missing Proportion (%)'])\n",
    "\n",
    "missing_proportions_df"
   ]
  },
  {
   "cell_type": "code",
   "execution_count": null,
   "id": "19fc85ca",
   "metadata": {},
   "outputs": [],
   "source": [
    "# Plotting bar plots for the selected categorical features against the FINALISED_LOAN\n",
    "\n",
    "categorical_columns = ['PRODUCT', 'AREA', 'RESIDENTIAL_PLACE', 'EDUCATION', 'MARITAL_STATUS', 'EMPLOYEE_NO']\n",
    "plt.figure(figsize=(15, 20))\n",
    "for i, column in enumerate(categorical_columns, 1):\n",
    "    plt.subplot(6, 1, i)\n",
    "    sns.countplot(x=column, hue='FINALIZED_LOAN', data=data)\n",
    "    plt.title(f'Distribution of {column} by FINALISED_LOAN')\n",
    "    plt.xlabel(column)\n",
    "    plt.ylabel('Count')\n",
    "    plt.legend(title='FINALIZED_LOAN', loc='upper right')\n",
    "\n",
    "plt.tight_layout()\n",
    "plt.show()"
   ]
  },
  {
   "cell_type": "code",
   "execution_count": null,
   "id": "59894ad7",
   "metadata": {},
   "outputs": [],
   "source": [
    "# I have changed the orientation of the plot so that the values on the axis can be readable\n",
    "plt.figure(figsize=(6, 20)) \n",
    "sns.countplot(y='ECONOMIC_SECTOR', data=data) \n",
    "plt.title('Economic Sector Distribution')\n",
    "plt.xlabel('Count')\n",
    "plt.ylabel('Economic Sector') \n",
    "plt.show()"
   ]
  },
  {
   "cell_type": "code",
   "execution_count": null,
   "id": "5ae029e7",
   "metadata": {},
   "outputs": [],
   "source": []
  },
  {
   "cell_type": "code",
   "execution_count": null,
   "id": "139dce29",
   "metadata": {},
   "outputs": [],
   "source": [
    "# Low variance columns: These columns are highly skewed with a dominant value, reducing their potential predictive power.\n",
    "columns_to_remove_low_variance = ['SAVING_ACCOUNT', 'FOREIGN_ACCOUNT', 'DEPOSIT', 'PENSION_FUNDS']\n",
    "\n",
    "# Columns to remove due to concerns of high correlation or redundancy\n",
    "columns_to_remove_correlation_concerns = ['HOUSEHOLD_MEMBERS', 'DEBIT_CARD']\n",
    "\n",
    "# All columns to remove\n",
    "columns_to_remove = columns_to_remove_low_variance + columns_to_remove_correlation_concerns\n",
    "\n",
    "# Removing the columns from the dataset\n",
    "data_cleaned = data.drop(columns=columns_to_remove)\n",
    "\n",
    "\n",
    "data_cleaned.head()"
   ]
  },
  {
   "cell_type": "code",
   "execution_count": null,
   "id": "7a60c253",
   "metadata": {},
   "outputs": [],
   "source": [
    "# Let's check the rows, which are duplicated. We will not remove them, because they may have some value to our model\n",
    "data_cleaned[data_cleaned.duplicated()].shape[0]\n"
   ]
  },
  {
   "cell_type": "code",
   "execution_count": null,
   "id": "087d3ba0",
   "metadata": {},
   "outputs": [],
   "source": [
    "# We have removed rows with 'Missing' values in 'AREA'\n",
    "data_no_missing_area = data_cleaned[data_cleaned['AREA'] != 'Missing']\n",
    "\n",
    "rows_after_removal = data_no_missing_area.shape[0]\n",
    "rows_removed = data_cleaned.shape[0] - rows_after_removal\n",
    "\n",
    "rows_removed, rows_after_removal"
   ]
  },
  {
   "cell_type": "code",
   "execution_count": null,
   "id": "f2efd861",
   "metadata": {},
   "outputs": [],
   "source": [
    "order_by_median = data_no_missing_area.groupby('EDUCATION')['INCOME'].median().reset_index().sort_values('INCOME')['EDUCATION']\n",
    "plt.figure(figsize=(24, 16))\n",
    "sns.boxplot(y=\"EDUCATION\", x=\"INCOME\", data=data_no_missing_area, width=0.7, order=order_by_median,showfliers=False)\n",
    "\n",
    "plt.title('Income distribution in terms of education after inputation', fontsize=16)\n",
    "plt.xlabel('Income', fontsize=14)\n",
    "plt.ylabel('Education ', fontsize=14)\n",
    "plt.show()\n",
    "data_no_missing_area[\"BUSINESS AGE\"].max()"
   ]
  },
  {
   "cell_type": "code",
   "execution_count": null,
   "id": "74e83a07",
   "metadata": {},
   "outputs": [],
   "source": [
    "#Let's see the distribution of education in the groups:\n",
    "education_data_before=data_no_missing_area.groupby(\"EDUCATION\").size().reset_index(name=\"count_before\")\n",
    "education_data_before"
   ]
  },
  {
   "cell_type": "code",
   "execution_count": null,
   "id": "94dccc30",
   "metadata": {},
   "outputs": [],
   "source": [
    "data_without_missing_education=data_no_missing_area[data_no_missing_area['EDUCATION']!=\"Missing\"]\n",
    "missing_education_median_incomes=data_without_missing_education.groupby(\"EDUCATION\").median()[\"INCOME\"].reset_index()\n",
    "\n",
    "def impute_education(row):\n",
    "    if row['EDUCATION'] == \"Missing\":\n",
    "        min_income = float('inf')\n",
    "        closest_education = \"Missing\"\n",
    "        for i in range(len(missing_education_median_incomes)):\n",
    "            temp = abs(missing_education_median_incomes.at[i, \"INCOME\"] - row[\"INCOME\"])\n",
    "            if temp < min_income:\n",
    "                closest_education = missing_education_median_incomes.at[i, \"EDUCATION\"]\n",
    "                min_income = temp\n",
    "        return closest_education\n",
    "    else:\n",
    "        return row['EDUCATION']\n",
    "data_no_missing_area_copy=data_no_missing_area.copy()\n",
    "\n",
    "data_no_missing_area_copy.loc[:,'EDUCATION']=data_no_missing_area.apply(impute_education, axis=1)\n",
    "\n",
    "# Lets see how the distribution looks like now, and how the proportion of education changed"
   ]
  },
  {
   "cell_type": "code",
   "execution_count": null,
   "id": "bf5edec1",
   "metadata": {},
   "outputs": [],
   "source": [
    "new_row = {'EDUCATION': 'Missing', 'count_after': 0}\n",
    "\n",
    "education_data_after=data_no_missing_area_copy.groupby(\"EDUCATION\").size().reset_index(name=\"count_after\")\n",
    "education_data_after=pd.concat([education_data_after.iloc[:3], pd.DataFrame([new_row]), education_data_after.iloc[3:]]).reset_index(drop=True)\n",
    "\n",
    "education_data_before.merge(education_data_after,on=\"EDUCATION\", suffixes=('_before', '_after')).assign(increase=lambda x: 100*(x['count_after']-x['count_before'])/ x['count_before'])"
   ]
  },
  {
   "cell_type": "code",
   "execution_count": null,
   "id": "24f55f1d",
   "metadata": {},
   "outputs": [],
   "source": [
    "# Let's delete showfliers\n",
    "plt.figure(figsize=(24, 16))\n",
    "sns.boxplot(y=\"EDUCATION\", x=\"INCOME\", data=data_no_missing_area_copy, width=0.7, order=order_by_median,showfliers=False)\n",
    "\n",
    "plt.title('Income distribution in terms of education after inputation', fontsize=16)\n",
    "plt.xlabel('Income', fontsize=14)\n",
    "plt.ylabel('Education ', fontsize=14)\n",
    "plt.show()\n",
    "data_no_missing_area[\"BUSINESS AGE\"].max()"
   ]
  },
  {
   "cell_type": "code",
   "execution_count": null,
   "id": "c94964cd",
   "metadata": {},
   "outputs": [],
   "source": [
    "# Let's now focus on outliers. We will focus on lower percentile 1% and upper percentile 99% and change all these values\n",
    "for col in ['AGE', 'WORK_SENIORITY', 'BUSINESS AGE']:\n",
    "    lower_bound = data_no_missing_area_copy[col].quantile(0.01)\n",
    "    upper_bound = data_no_missing_area_copy[col].quantile(0.99)\n",
    "    data_no_missing_area_copy[col] = data_no_missing_area_copy[col].clip(lower=lower_bound, upper=upper_bound)"
   ]
  },
  {
   "cell_type": "code",
   "execution_count": null,
   "id": "61dbe8cb",
   "metadata": {},
   "outputs": [],
   "source": [
    "# Let's change outliers for Income\n",
    "income_upper_bound = data_no_missing_area_copy['INCOME'].quantile(0.99)\n",
    "income_median = data_no_missing_area_copy['INCOME'].median()\n",
    "data_no_missing_area_copy['INCOME'] = np.where(data_no_missing_area_copy['INCOME'] > income_upper_bound, income_median, data_no_missing_area_copy['INCOME'])"
   ]
  },
  {
   "cell_type": "code",
   "execution_count": null,
   "id": "4e66d756",
   "metadata": {},
   "outputs": [],
   "source": [
    "# Deleting extraordinary outliers. Firstly let's consider length_relationship_with_client\n",
    "\n",
    "data_no_outlier_relationship=data_no_missing_area_copy[data_no_missing_area['LENGTH_RELATIONSHIP_WITH_CLIENT']<100]\n",
    "rows_after_removal=data_no_outlier_relationship.shape[0]\n",
    "rows_removed = data_no_missing_area_copy.shape[0] - rows_after_removal\n",
    "\n",
    "rows_removed, rows_after_removal"
   ]
  },
  {
   "cell_type": "code",
   "execution_count": null,
   "id": "873f080c",
   "metadata": {},
   "outputs": [],
   "source": [
    "# Now let's take the first column with types of products. We can clearly see that the products A and D have infinitesimal number of appearences\n",
    "data_no_outlier_products=data_no_outlier_relationship[(data_no_outlier_relationship['PRODUCT']!='A') & (data_no_outlier_relationship['PRODUCT']!='D')]\n",
    "rows_after_removal=data_no_outlier_products.shape[0]\n",
    "rows_removed=data_no_outlier_relationship.shape[0]-rows_after_removal\n",
    "\n",
    "rows_removed, rows_after_removal"
   ]
  },
  {
   "cell_type": "code",
   "execution_count": null,
   "id": "205d2fb5",
   "metadata": {},
   "outputs": [],
   "source": [
    "# # Applying log transformation\n",
    "# data_no_outlier_relationship['LENGTH_RELATIONSHIP_WITH_CLIENT_LOG'] = np.log1p(data_no_outlier_relationship['LENGTH_RELATIONSHIP_WITH_CLIENT'])\n",
    "\n",
    "# # Plotting the distribution of the transformed LENGTH_RELATIONSHIP_WITH_CLIENT\n",
    "# plt.figure(figsize=(10, 6))\n",
    "# sns.histplot(data_no_outlier_relationship['LENGTH_RELATIONSHIP_WITH_CLIENT_LOG'], kde=True, bins=30)\n",
    "# plt.title('Rozkład długości relacji z klientem po transformacji logarytmicznej')\n",
    "# plt.xlabel('Logarytm długości relacji z klientem (lata)')\n",
    "# plt.ylabel('Liczba klientów')\n",
    "# plt.show()\n",
    "\n",
    "# # Calculate the skewness after log transformation\n",
    "# length_relationship_log_skew = data_no_outlier_relationship['LENGTH_RELATIONSHIP_WITH_CLIENT_LOG'].skew()\n",
    "# length_relationship_log_skew"
   ]
  }
 ],
 "metadata": {
  "kernelspec": {
   "display_name": "Python 3 (ipykernel)",
   "language": "python",
   "name": "python3"
  },
  "language_info": {
   "codemirror_mode": {
    "name": "ipython",
    "version": 3
   },
   "file_extension": ".py",
   "mimetype": "text/x-python",
   "name": "python",
   "nbconvert_exporter": "python",
   "pygments_lexer": "ipython3",
   "version": "3.9.12"
  }
 },
 "nbformat": 4,
 "nbformat_minor": 5
}
