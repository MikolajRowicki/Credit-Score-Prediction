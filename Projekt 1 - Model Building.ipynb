{
 "cells": [
  {
   "cell_type": "code",
   "execution_count": 2,
   "id": "1e2ba1fb",
   "metadata": {},
   "outputs": [],
   "source": [
    "import pandas as pd\n",
    "import numpy as np\n",
    "import seaborn as sns\n",
    "import matplotlib.pyplot as plt\n",
    "from sklearn.feature_selection import SelectKBest, chi2\n",
    "from sklearn.feature_selection import f_classif\n",
    "from sklearn.ensemble import RandomForestClassifier\n",
    "from sklearn.preprocessing import OrdinalEncoder\n",
    "from sklearn.preprocessing import OneHotEncoder\n",
    "pd.set_option('display.max.columns',None)\n",
    "from sklearn.model_selection import train_test_split\n",
    "from sklearn.linear_model import LogisticRegression\n",
    "from sklearn.metrics import accuracy_score, precision_score, recall_score, roc_auc_score, roc_curve\n",
    "from sklearn import preprocessing\n",
    "from sklearn.svm import SVC\n",
    "from sklearn.neighbors import KNeighborsClassifier\n",
    "from sklearn.ensemble import GradientBoostingClassifier\n",
    "from sklearn.naive_bayes import GaussianNB\n",
    "from sklearn.neural_network import MLPClassifier"
   ]
  },
  {
   "cell_type": "code",
   "execution_count": 3,
   "id": "44a65a9e",
   "metadata": {},
   "outputs": [],
   "source": [
    "train_data = pd.read_csv(\"train_set_feature_engineering.csv\")\n",
    "valid_data = pd.read_csv(\"valid_set_feature_engineering.csv\")"
   ]
  },
  {
   "cell_type": "markdown",
   "id": "94f62d3e",
   "metadata": {},
   "source": [
    "# Model building"
   ]
  },
  {
   "cell_type": "code",
   "execution_count": 38,
   "id": "3239372b",
   "metadata": {},
   "outputs": [],
   "source": [
    "# Version with all columns\n",
    "X_train = train_data.drop('FINALIZED_LOAN', axis=1)\n",
    "\n",
    "y_train = train_data['FINALIZED_LOAN']\n",
    "\n",
    "X_test = valid_data.drop('FINALIZED_LOAN', axis =1 )\n",
    "\n",
    "y_test = valid_data['FINALIZED_LOAN']"
   ]
  },
  {
   "cell_type": "markdown",
   "id": "ec71ea73",
   "metadata": {},
   "source": [
    "1. Support vector machine"
   ]
  },
  {
   "cell_type": "code",
   "execution_count": 7,
   "id": "6a094619",
   "metadata": {},
   "outputs": [
    {
     "data": {
      "text/plain": [
       "(0.855054432348367, 0.448692152917505, 0.37805197631706333)"
      ]
     },
     "execution_count": 7,
     "metadata": {},
     "output_type": "execute_result"
    }
   ],
   "source": [
    "# Initialize models\n",
    "svm_model = SVC(kernel='linear', C=1)\n",
    "\n",
    "\n",
    "# Fit models\n",
    "svm_model.fit(X_train, y_train)\n",
    "\n",
    "\n",
    "# Predict on the testing set\n",
    "y_pred_svm = svm_model.predict(X_test)\n",
    "\n",
    "\n",
    "# Calculate accuracies\n",
    "accuracy_svm = accuracy_score(y_test, y_pred_svm)\n",
    "recall_svm = recall_score(y_test, y_pred_svm)\n",
    "gini_svm = 2 * roc_auc_score(y_test, y_pred_svm) - 1\n",
    "\n",
    "\n",
    "\n",
    "accuracy_svm, recall_svm, gini_svm"
   ]
  },
  {
   "cell_type": "markdown",
   "id": "9230b722",
   "metadata": {},
   "source": [
    "2. K Nearest Neighbours"
   ]
  },
  {
   "cell_type": "code",
   "execution_count": 23,
   "id": "c57a79a9",
   "metadata": {},
   "outputs": [],
   "source": [
    "# # Initialize models\n",
    "# knn_model = KNeighborsClassifier(n_neighbors=5)\n",
    "\n",
    "\n",
    "# # Fit models\n",
    "# knn_model.fit(X_train, y_train)\n",
    "\n",
    "# # Predict on the testing set\n",
    "# y_pred_knn = knn_model.predict(X_test)\n",
    "\n",
    "# # Calculate accuracies\n",
    "# accuracy_knn = accuracy_score(y_test, y_pred_knn)\n",
    "\n",
    "# recall_knn = recall_score(y_test, y_pred_knn)\n",
    "\n",
    "# gini_knn = 2 * roc_auc_score(y_test, y_pred_knn) - 1\n",
    "\n",
    "\n",
    "\n",
    "# accuracy_knn, recall_knn, gini_knn"
   ]
  },
  {
   "cell_type": "markdown",
   "id": "90073f2a",
   "metadata": {},
   "source": [
    "3. Gradient Boosting"
   ]
  },
  {
   "cell_type": "code",
   "execution_count": 10,
   "id": "3d75da0c",
   "metadata": {},
   "outputs": [
    {
     "data": {
      "text/plain": [
       "(0.8715396578538103, 0.5291750503018109, 0.4633178023253577)"
      ]
     },
     "execution_count": 10,
     "metadata": {},
     "output_type": "execute_result"
    }
   ],
   "source": [
    "# Initialize models\n",
    "gbm_model = GradientBoostingClassifier(n_estimators=100, learning_rate=0.1)\n",
    "\n",
    "# Fit models\n",
    "gbm_model.fit(X_train, y_train)\n",
    "\n",
    "# Predict on the testing set\n",
    "y_pred_gbm = gbm_model.predict(X_test)\n",
    "\n",
    "# Calculate accuracies\n",
    "accuracy_gbm = accuracy_score(y_test, y_pred_gbm)\n",
    "\n",
    "recall_gbm = recall_score(y_test, y_pred_gbm)\n",
    "\n",
    "gini_gbm = 2 * roc_auc_score(y_test, y_pred_gbm) - 1\n",
    "\n",
    "\n",
    "\n",
    "accuracy_gbm, recall_gbm, gini_gbm"
   ]
  },
  {
   "cell_type": "markdown",
   "id": "3bb1e3bb",
   "metadata": {},
   "source": [
    "4. Gaussian naive bayes"
   ]
  },
  {
   "cell_type": "code",
   "execution_count": 39,
   "id": "406dafeb",
   "metadata": {},
   "outputs": [
    {
     "data": {
      "text/plain": [
       "(0.8055987558320373, 0.9114688128772636, 0.6977086951436358)"
      ]
     },
     "execution_count": 39,
     "metadata": {},
     "output_type": "execute_result"
    }
   ],
   "source": [
    "# Initialize models\n",
    "nb_model = GaussianNB()\n",
    "\n",
    "# Fit models\n",
    "nb_model.fit(X_train, y_train)\n",
    "\n",
    "# Predict on the testing set\n",
    "y_pred_nb = nb_model.predict(X_test)\n",
    "\n",
    "# Calculate accuracies\n",
    "accuracy_nb = accuracy_score(y_test, y_pred_nb)\n",
    "\n",
    "recall_nb = recall_score(y_test, y_pred_nb)\n",
    "\n",
    "gini_nb = 2 * roc_auc_score(y_test, y_pred_nb) - 1\n",
    "\n",
    "\n",
    "\n",
    "accuracy_nb, recall_nb, gini_nb"
   ]
  },
  {
   "cell_type": "markdown",
   "id": "afa93c7e",
   "metadata": {},
   "source": [
    "5. Multi-layer Perceptron (neural network)"
   ]
  },
  {
   "cell_type": "code",
   "execution_count": 13,
   "id": "2a129760",
   "metadata": {},
   "outputs": [
    {
     "data": {
      "text/plain": [
       "(0.8438569206842924, 0.028169014084507043, 0.021178579941754982)"
      ]
     },
     "execution_count": 13,
     "metadata": {},
     "output_type": "execute_result"
    }
   ],
   "source": [
    "# Initialize models\n",
    "nn_model = MLPClassifier(hidden_layer_sizes=(100,), max_iter=1000)\n",
    "\n",
    "nn_model.fit(X_train, y_train)\n",
    "\n",
    "y_pred_nn = nn_model.predict(X_test)\n",
    "\n",
    "# Calculate accuracies\n",
    "accuracy_nn = accuracy_score(y_test, y_pred_nn)\n",
    "\n",
    "recall_nn = recall_score(y_test, y_pred_nn)\n",
    "\n",
    "gini_nn = 2 * roc_auc_score(y_test, y_pred_nn) - 1\n",
    "\n",
    "accuracy_nn, recall_nn, gini_nn"
   ]
  },
  {
   "cell_type": "markdown",
   "id": "67f6751a",
   "metadata": {},
   "source": [
    "6. Random Forest"
   ]
  },
  {
   "cell_type": "code",
   "execution_count": 21,
   "id": "66fb3c2b",
   "metadata": {},
   "outputs": [
    {
     "data": {
      "text/plain": [
       "(0.8914463452566096, 0.5472837022132797, 0.5016619214921614)"
      ]
     },
     "execution_count": 21,
     "metadata": {},
     "output_type": "execute_result"
    }
   ],
   "source": [
    "# Re-initialize and train the model with correct data\n",
    "rf_classifier_corrected = RandomForestClassifier(n_estimators=100, random_state=42)\n",
    "rf_classifier_corrected.fit(X_train, y_train)\n",
    "\n",
    "# Predict on the corrected test set\n",
    "y_pred_rf = rf_classifier_corrected.predict(X_test)\n",
    "\n",
    "# Re-evaluate the model with corrected data\n",
    "accuracy_rf = accuracy_score(y_test, y_pred_rf)\n",
    "\n",
    "recall_rf = recall_score(y_test, y_pred_rf)\n",
    "\n",
    "gini_rf = 2 * roc_auc_score(y_test, y_pred_rf) - 1\n",
    "\n",
    "accuracy_rf, recall_rf, gini_rf"
   ]
  },
  {
   "cell_type": "markdown",
   "id": "95350eeb",
   "metadata": {},
   "source": [
    "# Insights\n",
    "\n",
    "It seems that in terms of recall and gini the best model is Gaussian Naive Bayes. Let's how these statistics will change when we choose only subset of columns. Let's choose these the most important ones according to previous analysis."
   ]
  },
  {
   "cell_type": "code",
   "execution_count": 25,
   "id": "42928bae",
   "metadata": {},
   "outputs": [
    {
     "data": {
      "text/html": [
       "<div>\n",
       "<style scoped>\n",
       "    .dataframe tbody tr th:only-of-type {\n",
       "        vertical-align: middle;\n",
       "    }\n",
       "\n",
       "    .dataframe tbody tr th {\n",
       "        vertical-align: top;\n",
       "    }\n",
       "\n",
       "    .dataframe thead th {\n",
       "        text-align: right;\n",
       "    }\n",
       "</style>\n",
       "<table border=\"1\" class=\"dataframe\">\n",
       "  <thead>\n",
       "    <tr style=\"text-align: right;\">\n",
       "      <th></th>\n",
       "      <th>Columns</th>\n",
       "      <th>Gini</th>\n",
       "      <th>Recall</th>\n",
       "    </tr>\n",
       "  </thead>\n",
       "  <tbody>\n",
       "    <tr>\n",
       "      <th>0</th>\n",
       "      <td>[LENGTH_RELATIONSHIP_WITH_CLIENT]</td>\n",
       "      <td>0.409535</td>\n",
       "      <td>0.543681</td>\n",
       "    </tr>\n",
       "    <tr>\n",
       "      <th>1</th>\n",
       "      <td>[LOYALTY_TO_AGE]</td>\n",
       "      <td>0.106720</td>\n",
       "      <td>0.194636</td>\n",
       "    </tr>\n",
       "    <tr>\n",
       "      <th>2</th>\n",
       "      <td>[SENIORITY_RELATIONSHIP_RATIO]</td>\n",
       "      <td>0.000000</td>\n",
       "      <td>0.000000</td>\n",
       "    </tr>\n",
       "    <tr>\n",
       "      <th>3</th>\n",
       "      <td>[RELATIONSHIP_LENGTH_CAT]</td>\n",
       "      <td>0.411989</td>\n",
       "      <td>0.546932</td>\n",
       "    </tr>\n",
       "    <tr>\n",
       "      <th>4</th>\n",
       "      <td>[INCOME_AGE_INTERACTION]</td>\n",
       "      <td>0.000000</td>\n",
       "      <td>0.000000</td>\n",
       "    </tr>\n",
       "    <tr>\n",
       "      <th>...</th>\n",
       "      <td>...</td>\n",
       "      <td>...</td>\n",
       "      <td>...</td>\n",
       "    </tr>\n",
       "    <tr>\n",
       "      <th>1018</th>\n",
       "      <td>[LENGTH_RELATIONSHIP_WITH_CLIENT, LOYALTY_TO_A...</td>\n",
       "      <td>0.697953</td>\n",
       "      <td>0.898415</td>\n",
       "    </tr>\n",
       "    <tr>\n",
       "      <th>1019</th>\n",
       "      <td>[LENGTH_RELATIONSHIP_WITH_CLIENT, LOYALTY_TO_A...</td>\n",
       "      <td>0.666401</td>\n",
       "      <td>0.849248</td>\n",
       "    </tr>\n",
       "    <tr>\n",
       "      <th>1020</th>\n",
       "      <td>[LENGTH_RELATIONSHIP_WITH_CLIENT, SENIORITY_RE...</td>\n",
       "      <td>0.696123</td>\n",
       "      <td>0.890289</td>\n",
       "    </tr>\n",
       "    <tr>\n",
       "      <th>1021</th>\n",
       "      <td>[LOYALTY_TO_AGE, SENIORITY_RELATIONSHIP_RATIO,...</td>\n",
       "      <td>0.684272</td>\n",
       "      <td>0.887444</td>\n",
       "    </tr>\n",
       "    <tr>\n",
       "      <th>1022</th>\n",
       "      <td>[LENGTH_RELATIONSHIP_WITH_CLIENT, LOYALTY_TO_A...</td>\n",
       "      <td>0.704492</td>\n",
       "      <td>0.911012</td>\n",
       "    </tr>\n",
       "  </tbody>\n",
       "</table>\n",
       "<p>1023 rows × 3 columns</p>\n",
       "</div>"
      ],
      "text/plain": [
       "                                                Columns      Gini    Recall\n",
       "0                     [LENGTH_RELATIONSHIP_WITH_CLIENT]  0.409535  0.543681\n",
       "1                                      [LOYALTY_TO_AGE]  0.106720  0.194636\n",
       "2                        [SENIORITY_RELATIONSHIP_RATIO]  0.000000  0.000000\n",
       "3                             [RELATIONSHIP_LENGTH_CAT]  0.411989  0.546932\n",
       "4                              [INCOME_AGE_INTERACTION]  0.000000  0.000000\n",
       "...                                                 ...       ...       ...\n",
       "1018  [LENGTH_RELATIONSHIP_WITH_CLIENT, LOYALTY_TO_A...  0.697953  0.898415\n",
       "1019  [LENGTH_RELATIONSHIP_WITH_CLIENT, LOYALTY_TO_A...  0.666401  0.849248\n",
       "1020  [LENGTH_RELATIONSHIP_WITH_CLIENT, SENIORITY_RE...  0.696123  0.890289\n",
       "1021  [LOYALTY_TO_AGE, SENIORITY_RELATIONSHIP_RATIO,...  0.684272  0.887444\n",
       "1022  [LENGTH_RELATIONSHIP_WITH_CLIENT, LOYALTY_TO_A...  0.704492  0.911012\n",
       "\n",
       "[1023 rows x 3 columns]"
      ]
     },
     "execution_count": 25,
     "metadata": {},
     "output_type": "execute_result"
    }
   ],
   "source": [
    "from sklearn.naive_bayes import GaussianNB\n",
    "from sklearn.metrics import recall_score, roc_auc_score\n",
    "from itertools import chain, combinations\n",
    "\n",
    "# Function to get all subsets of a list\n",
    "def all_subsets(ss):\n",
    "    return chain(*map(lambda x: combinations(ss, x), range(1, len(ss)+1)))\n",
    "\n",
    "# Column names to consider for the model\n",
    "columns_to_consider = [\n",
    "    'LENGTH_RELATIONSHIP_WITH_CLIENT', 'LOYALTY_TO_AGE', 'SENIORITY_RELATIONSHIP_RATIO',\n",
    "    'RELATIONSHIP_LENGTH_CAT', 'INCOME_AGE_INTERACTION', 'INCOME_SENIORITY_INTERACTION',\n",
    "    'INCOME_LOG', 'AGE', 'INCOME', 'CAREER_STABILITY_RATIO'\n",
    "]\n",
    "\n",
    "# Split the dataset into features (X) and target (y)\n",
    "X_train = train_data.drop('FINALIZED_LOAN', axis=1)\n",
    "y_train = train_data['FINALIZED_LOAN']\n",
    "\n",
    "# Initialize an empty list to store the results\n",
    "results = []\n",
    "\n",
    "# Iterate over all subsets of the specified columns\n",
    "for subset in all_subsets(columns_to_consider):\n",
    "    # Convert subset to list to index dataframe\n",
    "    subset_list = list(subset)\n",
    "\n",
    "    # Train a GaussianNB model on the subset\n",
    "    nb_model = GaussianNB()\n",
    "    nb_model.fit(X_train[subset_list], y_train)\n",
    "\n",
    "    # Predict on the training set (for simplicity, we'll use the training set for evaluation)\n",
    "    y_pred_nb = nb_model.predict(X_train[subset_list])\n",
    "\n",
    "    # Calculate metrics\n",
    "    accuracy_nb = accuracy_score(y_train, y_pred_nb)\n",
    "    recall_nb = recall_score(y_train, y_pred_nb)\n",
    "    gini_nb = 2 * roc_auc_score(y_train, y_pred_nb) - 1\n",
    "\n",
    "    # Append the results\n",
    "    results.append({\n",
    "        'Columns': subset_list,\n",
    "        'Gini': gini_nb,\n",
    "        'Recall': recall_nb\n",
    "    })\n",
    "\n",
    "# Convert results to a DataFrame for easy viewing\n",
    "results_df = pd.DataFrame(results)\n",
    "\n",
    "results_df"
   ]
  },
  {
   "cell_type": "code",
   "execution_count": 36,
   "id": "0ed3b33e",
   "metadata": {},
   "outputs": [
    {
     "data": {
      "text/html": [
       "<div>\n",
       "<style scoped>\n",
       "    .dataframe tbody tr th:only-of-type {\n",
       "        vertical-align: middle;\n",
       "    }\n",
       "\n",
       "    .dataframe tbody tr th {\n",
       "        vertical-align: top;\n",
       "    }\n",
       "\n",
       "    .dataframe thead th {\n",
       "        text-align: right;\n",
       "    }\n",
       "</style>\n",
       "<table border=\"1\" class=\"dataframe\">\n",
       "  <thead>\n",
       "    <tr style=\"text-align: right;\">\n",
       "      <th></th>\n",
       "      <th>Columns</th>\n",
       "      <th>Gini</th>\n",
       "      <th>Recall</th>\n",
       "    </tr>\n",
       "  </thead>\n",
       "  <tbody>\n",
       "    <tr>\n",
       "      <th>1022</th>\n",
       "      <td>[LENGTH_RELATIONSHIP_WITH_CLIENT, LOYALTY_TO_A...</td>\n",
       "      <td>0.704492</td>\n",
       "      <td>0.911012</td>\n",
       "    </tr>\n",
       "    <tr>\n",
       "      <th>1015</th>\n",
       "      <td>[LENGTH_RELATIONSHIP_WITH_CLIENT, LOYALTY_TO_A...</td>\n",
       "      <td>0.704348</td>\n",
       "      <td>0.911824</td>\n",
       "    </tr>\n",
       "    <tr>\n",
       "      <th>1016</th>\n",
       "      <td>[LENGTH_RELATIONSHIP_WITH_CLIENT, LOYALTY_TO_A...</td>\n",
       "      <td>0.703184</td>\n",
       "      <td>0.913450</td>\n",
       "    </tr>\n",
       "    <tr>\n",
       "      <th>971</th>\n",
       "      <td>[LENGTH_RELATIONSHIP_WITH_CLIENT, LOYALTY_TO_A...</td>\n",
       "      <td>0.702795</td>\n",
       "      <td>0.909793</td>\n",
       "    </tr>\n",
       "    <tr>\n",
       "      <th>710</th>\n",
       "      <td>[LENGTH_RELATIONSHIP_WITH_CLIENT, SENIORITY_RE...</td>\n",
       "      <td>0.702631</td>\n",
       "      <td>0.901260</td>\n",
       "    </tr>\n",
       "    <tr>\n",
       "      <th>...</th>\n",
       "      <td>...</td>\n",
       "      <td>...</td>\n",
       "      <td>...</td>\n",
       "    </tr>\n",
       "    <tr>\n",
       "      <th>8</th>\n",
       "      <td>[INCOME]</td>\n",
       "      <td>0.000000</td>\n",
       "      <td>0.000000</td>\n",
       "    </tr>\n",
       "    <tr>\n",
       "      <th>135</th>\n",
       "      <td>[SENIORITY_RELATIONSHIP_RATIO, INCOME_LOG, INC...</td>\n",
       "      <td>0.000000</td>\n",
       "      <td>0.000000</td>\n",
       "    </tr>\n",
       "    <tr>\n",
       "      <th>4</th>\n",
       "      <td>[INCOME_AGE_INTERACTION]</td>\n",
       "      <td>0.000000</td>\n",
       "      <td>0.000000</td>\n",
       "    </tr>\n",
       "    <tr>\n",
       "      <th>5</th>\n",
       "      <td>[INCOME_SENIORITY_INTERACTION]</td>\n",
       "      <td>0.000000</td>\n",
       "      <td>0.000000</td>\n",
       "    </tr>\n",
       "    <tr>\n",
       "      <th>160</th>\n",
       "      <td>[INCOME_AGE_INTERACTION, INCOME_LOG, INCOME]</td>\n",
       "      <td>0.000000</td>\n",
       "      <td>0.000000</td>\n",
       "    </tr>\n",
       "  </tbody>\n",
       "</table>\n",
       "<p>1023 rows × 3 columns</p>\n",
       "</div>"
      ],
      "text/plain": [
       "                                                Columns      Gini    Recall\n",
       "1022  [LENGTH_RELATIONSHIP_WITH_CLIENT, LOYALTY_TO_A...  0.704492  0.911012\n",
       "1015  [LENGTH_RELATIONSHIP_WITH_CLIENT, LOYALTY_TO_A...  0.704348  0.911824\n",
       "1016  [LENGTH_RELATIONSHIP_WITH_CLIENT, LOYALTY_TO_A...  0.703184  0.913450\n",
       "971   [LENGTH_RELATIONSHIP_WITH_CLIENT, LOYALTY_TO_A...  0.702795  0.909793\n",
       "710   [LENGTH_RELATIONSHIP_WITH_CLIENT, SENIORITY_RE...  0.702631  0.901260\n",
       "...                                                 ...       ...       ...\n",
       "8                                              [INCOME]  0.000000  0.000000\n",
       "135   [SENIORITY_RELATIONSHIP_RATIO, INCOME_LOG, INC...  0.000000  0.000000\n",
       "4                              [INCOME_AGE_INTERACTION]  0.000000  0.000000\n",
       "5                        [INCOME_SENIORITY_INTERACTION]  0.000000  0.000000\n",
       "160        [INCOME_AGE_INTERACTION, INCOME_LOG, INCOME]  0.000000  0.000000\n",
       "\n",
       "[1023 rows x 3 columns]"
      ]
     },
     "execution_count": 36,
     "metadata": {},
     "output_type": "execute_result"
    }
   ],
   "source": [
    "results_df = results_df.sort_values(by='Gini', ascending=False)\n",
    "results_df\n"
   ]
  },
  {
   "cell_type": "code",
   "execution_count": 37,
   "id": "3f737206",
   "metadata": {},
   "outputs": [
    {
     "data": {
      "text/plain": [
       "['LENGTH_RELATIONSHIP_WITH_CLIENT',\n",
       " 'LOYALTY_TO_AGE',\n",
       " 'SENIORITY_RELATIONSHIP_RATIO',\n",
       " 'RELATIONSHIP_LENGTH_CAT',\n",
       " 'INCOME_AGE_INTERACTION',\n",
       " 'INCOME_SENIORITY_INTERACTION',\n",
       " 'INCOME_LOG',\n",
       " 'AGE',\n",
       " 'INCOME',\n",
       " 'CAREER_STABILITY_RATIO']"
      ]
     },
     "execution_count": 37,
     "metadata": {},
     "output_type": "execute_result"
    }
   ],
   "source": [
    "top_columns = results_df.iloc[0]['Columns']\n",
    "top_columns"
   ]
  },
  {
   "cell_type": "markdown",
   "id": "d5f2bca9",
   "metadata": {},
   "source": [
    "So we can see that we should choose all of the 10 most important columns in that model"
   ]
  },
  {
   "cell_type": "code",
   "execution_count": 4,
   "id": "66b9b36a",
   "metadata": {},
   "outputs": [],
   "source": [
    "#Version with only most important columns\n",
    "\n",
    "selected_features = ['LENGTH_RELATIONSHIP_WITH_CLIENT',\n",
    " 'LOYALTY_TO_AGE',\n",
    " 'SENIORITY_RELATIONSHIP_RATIO',\n",
    " 'RELATIONSHIP_LENGTH_CAT',\n",
    " 'INCOME_AGE_INTERACTION',\n",
    " 'INCOME_SENIORITY_INTERACTION',\n",
    " 'INCOME_LOG',\n",
    " 'AGE',\n",
    " 'INCOME',\n",
    " 'CAREER_STABILITY_RATIO']\n",
    "\n",
    "X_train = train_data[selected_features]\n",
    "\n",
    "y_train = train_data['FINALIZED_LOAN']\n",
    "\n",
    "X_test =  valid_data[selected_features]\n",
    "\n",
    "y_test = valid_data['FINALIZED_LOAN']\n"
   ]
  },
  {
   "cell_type": "code",
   "execution_count": 5,
   "id": "6749fe08",
   "metadata": {},
   "outputs": [
    {
     "data": {
      "text/plain": [
       "(0.8055987558320373, 0.9114688128772636, 0.6977086951436358)"
      ]
     },
     "execution_count": 5,
     "metadata": {},
     "output_type": "execute_result"
    }
   ],
   "source": [
    "# Initialize models\n",
    "nb_model = GaussianNB()\n",
    "\n",
    "# Fit models\n",
    "nb_model.fit(X_train, y_train)\n",
    "\n",
    "# Predict on the testing set\n",
    "y_pred_nb = nb_model.predict(X_test)\n",
    "\n",
    "# Calculate accuracies\n",
    "accuracy_nb = accuracy_score(y_test, y_pred_nb)\n",
    "\n",
    "recall_nb = recall_score(y_test, y_pred_nb)\n",
    "\n",
    "gini_nb = 2 * roc_auc_score(y_test, y_pred_nb) - 1\n",
    "\n",
    "\n",
    "\n",
    "accuracy_nb, recall_nb, gini_nb"
   ]
  },
  {
   "cell_type": "markdown",
   "id": "74c2eac0",
   "metadata": {},
   "source": [
    "Recall: 0,91 and Gini: 0,70 seem not that bad, but accuracy is now only 0,81"
   ]
  }
 ],
 "metadata": {
  "kernelspec": {
   "display_name": "Python 3 (ipykernel)",
   "language": "python",
   "name": "python3"
  },
  "language_info": {
   "codemirror_mode": {
    "name": "ipython",
    "version": 3
   },
   "file_extension": ".py",
   "mimetype": "text/x-python",
   "name": "python",
   "nbconvert_exporter": "python",
   "pygments_lexer": "ipython3",
   "version": "3.9.12"
  }
 },
 "nbformat": 4,
 "nbformat_minor": 5
}
